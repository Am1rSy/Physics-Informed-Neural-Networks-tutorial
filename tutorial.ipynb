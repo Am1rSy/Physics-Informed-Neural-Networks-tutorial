{
 "cells": [
  {
   "cell_type": "markdown",
   "metadata": {
    "slideshow": {
     "slide_type": "slide"
    }
   },
   "source": [
    "# Physics Informed Neural Networks\n",
    "\n",
    "**Presenter:** Filippo Maria Bianchi\n",
    "\n",
    "**Repository:** [github.com/FilippoMB/Physics-Informed-Neural-Networks-tutorial](https://github.com/FilippoMB/Physics-Informed-Neural-Networks-tutorial)"
   ]
  },
  {
   "cell_type": "markdown",
   "metadata": {
    "slideshow": {
     "slide_type": "slide"
    }
   },
   "source": [
    "## Introduction\n",
    "\n",
    "What are PINNs?\n",
    "\n",
    "- PINNs are Neural Networks used to learn a generic function $f$.\n",
    "- Like standard NNs, PINNs account for observation data $\\{ x_i \\}_{i=1}^N$ in learning $f$.\n",
    "- In addition, the optimization of $f$ is guided by a regularization term, which encourages $f$ to be the solution of a Partial Differential Equation (PDE)."
   ]
  },
  {
   "cell_type": "markdown",
   "metadata": {
    "slideshow": {
     "slide_type": "subslide"
    }
   },
   "source": [
    "### Traditional PDE solvers\n",
    "\n",
    "- Simple problems can be solved analytically.\n",
    "- E.g., consider the velocity:\n",
    "\n",
    "$$v(t) = \\frac{d x}{d t} = \\lim_{h \\rightarrow 0} \\frac{x(t+h) - x(t)}{h}$$\n",
    "\n",
    "<img src=\"figs/simple_pde.png\" style=\"width: 40%; display: block; margin: auto;\">\n",
    "\n",
    "- Solution: \n",
    "\n",
    "$$\n",
    "v(t) = \n",
    "\\begin{cases}\n",
    "3/2 & \\text{if}\\; t \\in \\{ 0, 2 \\} \\\\\n",
    "0 & \\text{if}\\; t \\in \\{ 2, 4 \\} \\\\\n",
    "-1/3 & \\text{if}\\; t \\in \\{ 4, 7 \\}\n",
    "\\end{cases}\n",
    "$$"
   ]
  },
  {
   "cell_type": "markdown",
   "metadata": {
    "slideshow": {
     "slide_type": "subslide"
    }
   },
   "source": [
    "<img src=\"figs/numerical_pde.png\" style=\"width: 40%; display: block; margin: auto;\">\n",
    "\n",
    "- In most real-world problems solutions cannot be found analytically.\n",
    "- Differential equations are solved numerically.\n",
    "- E.g., they apply the definition of derivative for *all* the point of the time domain."
   ]
  },
  {
   "cell_type": "markdown",
   "metadata": {
    "slideshow": {
     "slide_type": "subslide"
    }
   },
   "source": [
    "**Limitations of PDE solvers**\n",
    "\n",
    "- Computationally expensive and scale bad to big data.\n",
    "- Integrating external data sources (e.g., from sensors) is problematic."
   ]
  },
  {
   "cell_type": "markdown",
   "metadata": {
    "slideshow": {
     "slide_type": "slide"
    }
   },
   "source": [
    "## Neural Networks\n",
    "\n",
    "<img src=\"figs/neural_net.png\" style=\"width: 40%; display: block; margin: auto;\">\n",
    "\n",
    "- Universal function approximators.\n",
    "- Can consume any kind of data $\\boldsymbol{X}$.\n",
    "- Are trained to minimize a loss, e.g., the error between the predictions $\\boldsymbol{\\hat{y}}$ and the desired outputs $\\boldsymbol{y}$."
   ]
  },
  {
   "cell_type": "code",
   "execution_count": 1,
   "metadata": {
    "run_control": {
     "marked": false
    },
    "slideshow": {
     "slide_type": "skip"
    }
   },
   "outputs": [],
   "source": [
    "# Imports\n",
    "import torch\n",
    "from torch import nn\n",
    "import numpy as np\n",
    "from scipy.integrate import solve_ivp\n",
    "import matplotlib.pyplot as plt\n",
    "from matplotlib import cm"
   ]
  },
  {
   "cell_type": "markdown",
   "metadata": {
    "slideshow": {
     "slide_type": "subslide"
    }
   },
   "source": [
    "Let's start by creating a simple neural network in <a href=\"https://pytorch.org\"><b>PyTorch</b></a>."
   ]
  },
  {
   "cell_type": "code",
   "execution_count": 2,
   "metadata": {
    "run_control": {
     "marked": false
    },
    "slideshow": {
     "slide_type": "-"
    }
   },
   "outputs": [],
   "source": [
    "# Define a simple neural network for regression\n",
    "class simple_NN(nn.Module):\n",
    "    def __init__(self):\n",
    "        super(simple_NN, self).__init__()\n",
    "        self.linear_tanh_stack = nn.Sequential(\n",
    "            nn.Linear(1, 16),\n",
    "            nn.Tanh(),\n",
    "            nn.Linear(16, 32),\n",
    "            nn.Tanh(),\n",
    "            nn.Linear(32, 16),\n",
    "            nn.Tanh(),\n",
    "            nn.Linear(16, 1),\n",
    "        )\n",
    "\n",
    "    def forward(self, x):\n",
    "        out = self.linear_tanh_stack(x)\n",
    "        return out"
   ]
  },
  {
   "cell_type": "markdown",
   "metadata": {
    "slideshow": {
     "slide_type": "subslide"
    }
   },
   "source": [
    "Then,\n",
    "- Create a small dataset $\\{x_i, y_i\\}_{i=1, \\dots 5}$.\n",
    "- Use the NN to make predictions: $\\hat{y}_i = \\rm{NN}(x_i)$.\n",
    "- Train the NN by minimizing $\\rm{MSE}(\\boldsymbol{y}, \\boldsymbol{\\hat{y}})$."
   ]
  },
  {
   "cell_type": "code",
   "execution_count": 3,
   "metadata": {
    "run_control": {
     "marked": false
    },
    "slideshow": {
     "slide_type": "-"
    }
   },
   "outputs": [],
   "source": [
    "# Define dataset\n",
    "x_train = torch.tensor([[1.1437e-04],\n",
    "        [1.4676e-01],\n",
    "        [3.0233e-01],\n",
    "        [4.1702e-01],\n",
    "        [7.2032e-01]], dtype=torch.float32)\n",
    "y_train = torch.tensor([[1.0000],\n",
    "        [1.0141],\n",
    "        [1.0456],\n",
    "        [1.0753],\n",
    "        [1.1565]], dtype=torch.float32)"
   ]
  },
  {
   "cell_type": "code",
   "execution_count": 4,
   "metadata": {
    "run_control": {
     "marked": false
    },
    "slideshow": {
     "slide_type": "subslide"
    }
   },
   "outputs": [
    {
     "name": "stdout",
     "output_type": "stream",
     "text": [
      "epoch: 0, loss: 0.999807\n",
      "epoch: 200, loss: 0.000161\n",
      "epoch: 400, loss: 0.000100\n",
      "epoch: 600, loss: 0.000046\n",
      "epoch: 800, loss: 0.000011\n"
     ]
    }
   ],
   "source": [
    "# Initialize the model\n",
    "model = simple_NN()\n",
    "\n",
    "# define loss and optimizer\n",
    "loss_fn = nn.MSELoss()\n",
    "optimizer = torch.optim.Adam(model.parameters(), lr=1e-2)\n",
    "\n",
    "# Train\n",
    "for ep in range(1000):\n",
    "\n",
    "    # Compute prediction error\n",
    "    pred = model(x_train)\n",
    "    loss = loss_fn(pred, y_train)\n",
    "\n",
    "    # Backpropagation\n",
    "    optimizer.zero_grad()\n",
    "    loss.backward()\n",
    "    optimizer.step()\n",
    "\n",
    "    if ep % 200 == 0:\n",
    "        print(f\"epoch: {ep}, loss: {loss.item():>7f}\")"
   ]
  },
  {
   "cell_type": "code",
   "execution_count": 5,
   "metadata": {
    "run_control": {
     "marked": false
    },
    "slideshow": {
     "slide_type": "subslide"
    }
   },
   "outputs": [
    {
     "data": {
      "image/png": "[encoded data removed]",
      "text/plain": [
       "<Figure size 1200x500 with 1 Axes>"
      ]
     },
     "metadata": {},
     "output_type": "display_data"
    }
   ],
   "source": [
    "# evaluate the model on all data points in the domain\n",
    "domain = [0.0, 1.5]\n",
    "x_eval = torch.linspace(domain[0], domain[1], steps=100).reshape(-1, 1)\n",
    "f_eval = model(x_eval)\n",
    "\n",
    "# plotting\n",
    "fig, ax = plt.subplots(figsize=(12, 5))\n",
    "ax.scatter(x_train.detach().numpy(), y_train.detach().numpy(), label=\"Training data\", color=\"blue\")\n",
    "ax.plot(x_eval.detach().numpy(), f_eval.detach().numpy(), label=\"NN approximation\", color=\"black\")\n",
    "ax.set(title=\"Neural Network Regression\", xlabel=\"$x$\", ylabel=\"$y$\")\n",
    "ax.legend();"
   ]
  },
  {
   "cell_type": "markdown",
   "metadata": {
    "slideshow": {
     "slide_type": "subslide"
    }
   },
   "source": [
    "- The NN does a good job in fitting the data samples.\n",
    "- However, it has no information on what function should learn when $x>0.8$. "
   ]
  },
  {
   "cell_type": "markdown",
   "metadata": {
    "slideshow": {
     "slide_type": "slide"
    }
   },
   "source": [
    "## Physics Informed NNs\n",
    "\n",
    "- Use PDEs to adjust the NN output.\n",
    "- Train the model with an additional loss that penalizes the violation of the PDE.\n",
    "\n",
    "$$ \\mathcal{L}_{\\text{tot}} =  \\mathcal{L}_{\\text{data}} + \\mathcal{L}_{\\text{PDE}}$$\n",
    "\n",
    "\n",
    "<img src=\"figs/neural_net_pde.png\" style=\"width: 50%; display: block; margin: auto;\">"
   ]
  },
  {
   "cell_type": "markdown",
   "metadata": {
    "slideshow": {
     "slide_type": "subslide"
    }
   },
   "source": [
    "**Advantages**\n",
    "\n",
    "Combine information from both data and from physical models.\n",
    "- Compared to traditional NNs, $\\mathcal{L}_{\\text{PDE}}$ regularizes the model limiting overfitting and improving generalization.\n",
    "- Compared to traiditional PDE solvers, PINNs are more scalable and can consume any kind of data."
   ]
  },
  {
   "cell_type": "markdown",
   "metadata": {
    "slideshow": {
     "slide_type": "slide"
    }
   },
   "source": [
    "### Example I: population growth\n",
    "\n",
    "Logistic equation for modeling the population growth: \n",
    "\n",
    "$$ \\frac{d f(t)}{d t} = Rt(1-t)$$\n",
    "\n",
    "- $f(t)$ is the population growth over time $t$\n",
    "- $R$ is the max growth rate\n",
    "- To identify a solution, a boundary condition must be imposed, e.g., at $t=0$:\n",
    "\n",
    "$$f(t=0)=1$$"
   ]
  },
  {
   "cell_type": "code",
   "execution_count": 6,
   "metadata": {
    "run_control": {
     "marked": false
    },
    "slideshow": {
     "slide_type": "fragment"
    }
   },
   "outputs": [],
   "source": [
    "R = 1.0\n",
    "ft0 = 1.0"
   ]
  },
  {
   "cell_type": "markdown",
   "metadata": {
    "slideshow": {
     "slide_type": "subslide"
    }
   },
   "source": [
    "- Use the NN to model $f(t)$, i.e., $f(t) = \\rm{NN}(t)$\n",
    "- We can easily compute the derivative $\\frac{d\\rm{NN}(t)}{dt}$ thanks to automatic differentiation provided by deep learning libraries\n"
   ]
  },
  {
   "cell_type": "code",
   "execution_count": 7,
   "metadata": {
    "run_control": {
     "marked": false
    },
    "slideshow": {
     "slide_type": "fragment"
    }
   },
   "outputs": [],
   "source": [
    "def df(f: simple_NN, x: torch.Tensor = None, order: int = 1) -> torch.Tensor:\n",
    "    \"\"\"Compute neural network derivative with respect to input features using PyTorch autograd engine\"\"\"\n",
    "    df_value = f(x)\n",
    "    for _ in range(order):\n",
    "        df_value = torch.autograd.grad(\n",
    "            df_value,\n",
    "            x,\n",
    "            grad_outputs=torch.ones_like(x),\n",
    "            create_graph=True,\n",
    "            retain_graph=True,\n",
    "        )[0]\n",
    "\n",
    "    return df_value "
   ]
  },
  {
   "cell_type": "markdown",
   "metadata": {
    "slideshow": {
     "slide_type": "subslide"
    }
   },
   "source": [
    "- We want our NN to satisfy the following equation:\n",
    "\n",
    "$$ \\frac{d\\rm{NN}(t)}{dt} - Rt(1-t) = 0 $$\n",
    "\n",
    "- To do that, we add the following physics-informed regularization term to the loss:\n",
    "\n",
    "$$ \\mathcal{L}_\\rm{PDE} = \\frac{1}{N} \\sum_{i=1}^N \\left( \\frac{d\\rm{NN}}{dt} \\bigg\\rvert_{t_i} - R t_i (1-t_i) \\right)^2 $$\n",
    "\n",
    "- where $t_i$ are **collocation points**, i.e., a set of points from the domain where we evaluate the differential equation."
   ]
  },
  {
   "cell_type": "code",
   "execution_count": 30,
   "metadata": {
    "run_control": {
     "marked": false
    },
    "slideshow": {
     "slide_type": "fragment"
    }
   },
   "outputs": [],
   "source": [
    "# Generate 10 evenly distributed collocation points\n",
    "# domain = [1.0, 1.5]\n",
    "t = torch.linspace(domain[0], domain[1], steps=10, requires_grad=True).reshape(-1, 1)"
   ]
  },
  {
   "cell_type": "code",
   "execution_count": 29,
   "metadata": {},
   "outputs": [
    {
     "data": {
      "text/plain": [
       "tensor([[0.0000],\n",
       "        [0.1667],\n",
       "        [0.3333],\n",
       "        [0.5000],\n",
       "        [0.6667],\n",
       "        [0.8333],\n",
       "        [1.0000],\n",
       "        [1.1667],\n",
       "        [1.3333],\n",
       "        [1.5000]], grad_fn=<ViewBackward0>)"
      ]
     },
     "execution_count": 29,
     "metadata": {},
     "output_type": "execute_result"
    }
   ],
   "source": [
    "t"
   ]
  },
  {
   "cell_type": "markdown",
   "metadata": {
    "slideshow": {
     "slide_type": "subslide"
    }
   },
   "source": [
    "- Only minimizing $\\mathcal{L}_\\rm{PDE}$ does not ensure a unique solution.\n",
    "- We must include the boundary condition by adding the following loss:\n",
    "$$ \\mathcal{L}_\\rm{BC} = \\left( \\rm{NN}(t_0) - f(t=0)\\right)^2 $$\n",
    "$$ \\mathcal{L}_\\rm{BC} = \\left( \\rm{NN}(t_0) - 1 \\right)^2 $$\n",
    "\n",
    "- This lets the NN converge to the desired solution among the infinite possible ones."
   ]
  },
  {
   "cell_type": "markdown",
   "metadata": {
    "slideshow": {
     "slide_type": "fragment"
    }
   },
   "source": [
    "The final loss is given by:\n",
    "\n",
    "$$ \\mathcal{L}_\\rm{PDE} + \\mathcal{L}_\\rm{BC} + \\mathcal{L}_\\rm{data} $$"
   ]
  },
  {
   "cell_type": "code",
   "execution_count": 9,
   "metadata": {
    "run_control": {
     "marked": false
    },
    "slideshow": {
     "slide_type": "subslide"
    }
   },
   "outputs": [],
   "source": [
    "# Wrap everything into a function\n",
    "def compute_loss(nn: simple_NN, \n",
    "                 t: torch.Tensor = None, \n",
    "                 x: torch.Tensor = None,\n",
    "                 y: torch.Tensor = None,\n",
    "                 ) -> torch.float:\n",
    "    \"\"\"Compute the full loss function as pde loss + boundary loss\n",
    "    This custom loss function is fully defined with differentiable tensors therefore\n",
    "    the .backward() method can be applied to it\n",
    "    \"\"\"\n",
    "\n",
    "    pde_loss = df(nn, t) - R * t * (1 - t)\n",
    "    pde_loss = pde_loss.pow(2).mean()\n",
    "\n",
    "    boundary = torch.Tensor([0.0])\n",
    "    boundary.requires_grad = True\n",
    "    bc_loss = nn(boundary) - ft0\n",
    "    bc_loss = bc_loss.pow(2)\n",
    "    \n",
    "    mse_loss = torch.nn.MSELoss()(nn(x), y)\n",
    "    \n",
    "    tot_loss = pde_loss + bc_loss + mse_loss\n",
    "    \n",
    "    return tot_loss"
   ]
  },
  {
   "cell_type": "code",
   "execution_count": 10,
   "metadata": {
    "run_control": {
     "marked": false
    },
    "scrolled": false,
    "slideshow": {
     "slide_type": "subslide"
    }
   },
   "outputs": [
    {
     "name": "stdout",
     "output_type": "stream",
     "text": [
      "epoch: 0, loss: 3.315218\n",
      "epoch: 200, loss: 0.000792\n",
      "epoch: 400, loss: 0.000321\n",
      "epoch: 600, loss: 0.000152\n",
      "epoch: 800, loss: 0.000105\n",
      "epoch: 1000, loss: 0.000092\n",
      "epoch: 1200, loss: 0.000087\n",
      "epoch: 1400, loss: 0.000084\n",
      "epoch: 1600, loss: 0.000083\n",
      "epoch: 1800, loss: 0.000082\n"
     ]
    }
   ],
   "source": [
    "model = simple_NN()\n",
    "optimizer = torch.optim.Adam(model.parameters(), lr=1e-2)\n",
    "\n",
    "# Train\n",
    "for ep in range(2000):\n",
    "\n",
    "    loss = compute_loss(model, t, x_train, y_train)\n",
    "\n",
    "    # Backpropagation\n",
    "    optimizer.zero_grad()\n",
    "    loss.backward()\n",
    "    optimizer.step()\n",
    "\n",
    "    if ep % 200 == 0:\n",
    "        print(f\"epoch: {ep}, loss: {loss.item():>7f}\")"
   ]
  },
  {
   "cell_type": "code",
   "execution_count": 11,
   "metadata": {
    "run_control": {
     "marked": false
    },
    "slideshow": {
     "slide_type": "skip"
    }
   },
   "outputs": [],
   "source": [
    "# numeric (analytic) solution\n",
    "def logistic_eq_fn(x, y):\n",
    "    return R * x * (1 - x)\n",
    "\n",
    "numeric_solution = solve_ivp(\n",
    "    logistic_eq_fn, domain, [ft0], t_eval=x_eval.squeeze().detach().numpy()\n",
    ")\n",
    "\n",
    "f_colloc = solve_ivp(\n",
    "    logistic_eq_fn, domain, [ft0], t_eval=t.squeeze().detach().numpy()\n",
    ").y.T"
   ]
  },
  {
   "cell_type": "code",
   "execution_count": 12,
   "metadata": {
    "run_control": {
     "marked": false
    },
    "slideshow": {
     "slide_type": "subslide"
    }
   },
   "outputs": [
    {
     "data": {
      "image/png": "[encoded data removed]",
      "text/plain": [
       "<Figure size 1200x500 with 1 Axes>"
      ]
     },
     "metadata": {},
     "output_type": "display_data"
    }
   ],
   "source": [
    "# evaluation on the domain [0, 1.5]\n",
    "f_eval = model(x_eval)\n",
    "\n",
    "# plotting\n",
    "fig, ax = plt.subplots(figsize=(12, 5))\n",
    "ax.scatter(t.detach().numpy(), f_colloc, label=\"Collocation points\", color=\"magenta\", alpha=0.75)\n",
    "ax.scatter(x_train.detach().numpy(), y_train.detach().numpy(), label=\"Observation data\", color=\"blue\")\n",
    "ax.plot(x_eval.detach().numpy(), f_eval.detach().numpy(), label=\"NN solution\", color=\"black\")\n",
    "ax.plot(x_eval.detach().numpy(), numeric_solution.y.T,\n",
    "        label=\"Analytic solution\", color=\"magenta\", alpha=0.75)\n",
    "ax.set(title=\"Logistic equation solved with NNs\", xlabel=\"t\", ylabel=\"f(t)\")\n",
    "ax.legend();"
   ]
  },
  {
   "cell_type": "markdown",
   "metadata": {
    "run_control": {
     "marked": false
    },
    "slideshow": {
     "slide_type": "slide"
    }
   },
   "source": [
    "### Example II: 1d wave\n",
    "\n",
    "- Now, we want our NN to learn a function $f(x,t)$ that satisfies the following $2^\\rm{nd}$ order PDE:\n",
    "\n",
    "$$\\frac{\\partial^2 f}{\\partial x^2} = \\frac{1}{C} \\frac{\\partial^2 f}{\\partial t^2}$$\n",
    "\n",
    "- where $C$ is a positive constant."
   ]
  },
  {
   "cell_type": "markdown",
   "metadata": {
    "slideshow": {
     "slide_type": "fragment"
    }
   },
   "source": [
    "- Differently from before, $f$ depends on two variables: space ($x$) and time ($t$). \n",
    "- We modify our neural network to accept to input variables."
   ]
  },
  {
   "cell_type": "code",
   "execution_count": 13,
   "metadata": {
    "slideshow": {
     "slide_type": "fragment"
    }
   },
   "outputs": [],
   "source": [
    "class simple_NN2(nn.Module):\n",
    "    def __init__(self):\n",
    "        super(simple_NN2, self).__init__()\n",
    "        self.linear_tanh_stack = nn.Sequential(\n",
    "            nn.Linear(2, 16),    # <--- 2 input variables\n",
    "            nn.Tanh(),\n",
    "            nn.Linear(16, 32),\n",
    "            nn.Tanh(),\n",
    "            nn.Linear(32, 16),\n",
    "            nn.Tanh(),\n",
    "            nn.Linear(16, 1),\n",
    "        )\n",
    "\n",
    "    def forward(self, x, t):\n",
    "        x_stack = torch.cat([x, t], dim=1) # <--- concatenate x and t\n",
    "        out = self.linear_tanh_stack(x_stack)\n",
    "        return out"
   ]
  },
  {
   "cell_type": "markdown",
   "metadata": {
    "slideshow": {
     "slide_type": "subslide"
    }
   },
   "source": [
    "- The function we defined before, `df()`, computes a derivatives of any order w.r.t. only one input variable.\n",
    "- We need to modify it slightly to differentiate w.r.t. both $x$ and $t$."
   ]
  },
  {
   "cell_type": "code",
   "execution_count": 14,
   "metadata": {
    "slideshow": {
     "slide_type": "fragment"
    }
   },
   "outputs": [],
   "source": [
    "def df(output: torch.Tensor, input_var: torch.Tensor, order: int = 1) -> torch.Tensor:\n",
    "    \"\"\"Compute neural network derivative with respect to input features using PyTorch autograd engine\"\"\"\n",
    "    df_value = output      # <-- we directly take the output of the NN\n",
    "    for _ in range(order):\n",
    "        df_value = torch.autograd.grad(\n",
    "            df_value,\n",
    "            input_var,\n",
    "            grad_outputs=torch.ones_like(input_var),\n",
    "            create_graph=True,\n",
    "            retain_graph=True,\n",
    "        )[0]\n",
    "    return df_value\n",
    "\n",
    "def dfdt(model: simple_NN2, x: torch.Tensor, t: torch.Tensor, order: int = 1):\n",
    "    \"\"\"Derivative with respect to the time variable of arbitrary order\"\"\"\n",
    "    f_value = model(x, t)\n",
    "    return df(f_value, t, order=order)\n",
    "\n",
    "def dfdx(model: simple_NN2, x: torch.Tensor, t: torch.Tensor, order: int = 1):\n",
    "    \"\"\"Derivative with respect to the spatial variable of arbitrary order\"\"\"\n",
    "    f_value = model(x, t)\n",
    "    return df(f_value, x, order=order)"
   ]
  },
  {
   "cell_type": "markdown",
   "metadata": {
    "slideshow": {
     "slide_type": "subslide"
    }
   },
   "source": [
    "#### Loss definition\n",
    "\n",
    "- For this example, we do not consider measurement data.\n",
    "- We train the NN with a loss that only accounts for physical equations.\n",
    "- The first term of the loss encourages respecting the 1-dimensional wave equation:\n",
    "\n",
    "$$\\mathcal{L}_\\rm{PDE} = \\left( \\frac{\\partial^2 f}{\\partial x^2} - \\frac{1}{C} \\frac{\\partial^2 f}{\\partial t^2} \\right)^2 $$"
   ]
  },
  {
   "cell_type": "markdown",
   "metadata": {
    "slideshow": {
     "slide_type": "subslide"
    }
   },
   "source": [
    "- As before, there are infinite solutions satisfying this equation.\n",
    "- We need to restrict the possible solutions by:\n",
    "    1. imposing periodic boundary conditions at the domain extrema.\n",
    "    2. imposing an initial condition on $f(x, t_0)$.\n",
    "    3. imposing an initial condition on $\\frac{\\partial f(x, t)}{\\partial t} \\bigg\\rvert_{t=0}$."
   ]
  },
  {
   "cell_type": "markdown",
   "metadata": {
    "slideshow": {
     "slide_type": "subslide"
    }
   },
   "source": [
    "- We define the domain of $x$ as $[x_0, x_1]$.\n",
    "- In this example, $x_0 = 0$ and $x_1 = 1$, but they could be different values.\n",
    "\n",
    "<img src=\"figs/boundaries.png\" style=\"width: 40%; display: block; margin: auto;\">\n",
    "\n",
    "- The following loss penalizes the violation of the boundary conditions:\n",
    "\n",
    "$$\\mathcal{L}_\\rm{BC} = f(x_0, t)^2 + f(x_1, t)^2$$"
   ]
  },
  {
   "cell_type": "markdown",
   "metadata": {
    "slideshow": {
     "slide_type": "subslide"
    }
   },
   "source": [
    "- Next, we must define the initial condition on $f(x, t_0)$.\n",
    "\n",
    "<img src=\"figs/initial_cond.png\" style=\"width: 40%; display: block; margin: auto;\">\n",
    "\n",
    "- The following loss penalizes departure from the desired initial condition:\n",
    "\n",
    "$$\\mathcal{L}_\\rm{initF} = \\left( f(x, t_0) - \\frac{1}{2} \\rm{sin}(2\\pi x) \\right)^2 $$"
   ]
  },
  {
   "cell_type": "markdown",
   "metadata": {
    "slideshow": {
     "slide_type": "subslide"
    }
   },
   "source": [
    "- Finally, we must specify the initial condition on $\\frac{\\partial f(x, t)}{\\partial t} \\bigg\\rvert_{t=0}$.\n",
    "\n",
    "<img src=\"figs/initial_cond2.jpeg\" style=\"width: 40%; display: block; margin: auto;\">\n",
    "\n",
    "The following loss penalizes departure from the desired initial condition of the 1st order derivative:\n",
    "\n",
    "$$\\mathcal{L}_\\rm{initDF} = \\left( \\frac{\\partial f}{\\partial t} \\bigg\\rvert_{t=0} \\right)^2 $$"
   ]
  },
  {
   "cell_type": "markdown",
   "metadata": {
    "slideshow": {
     "slide_type": "subslide"
    }
   },
   "source": [
    "The total loss is given by:\n",
    "\n",
    "$$\\mathcal{L}_\\rm{PDE} + \\mathcal{L}_\\rm{BC} + \\mathcal{L}_\\rm{initF} + \\mathcal{L}_\\rm{initDF}$$"
   ]
  },
  {
   "cell_type": "code",
   "execution_count": 15,
   "metadata": {
    "slideshow": {
     "slide_type": "subslide"
    }
   },
   "outputs": [],
   "source": [
    "def initial_condition(x) -> torch.Tensor:\n",
    "    res = torch.sin( 2*np.pi * x).reshape(-1, 1) * 0.5\n",
    "    return res"
   ]
  },
  {
   "cell_type": "code",
   "execution_count": 16,
   "metadata": {
    "slideshow": {
     "slide_type": "subslide"
    }
   },
   "outputs": [],
   "source": [
    "def compute_loss(\n",
    "    model: simple_NN2,\n",
    "    x: torch.Tensor = None, \n",
    "    t: torch.Tensor = None,\n",
    "    x_idx: torch.Tensor = None, \n",
    "    t_idx: torch.Tensor = None,  \n",
    "    C: float = 1.0,\n",
    "    device: str = None,\n",
    "    ) -> torch.float:\n",
    "\n",
    "    # PDE\n",
    "    pde_loss = dfdx(model, x, t, order=2) - (1/C**2) * dfdt(model, x, t, order=2)\n",
    "\n",
    "    # boundary conditions\n",
    "    boundary_x0 = torch.ones_like(t_idx, requires_grad=True).to(device) * x[0]      \n",
    "    boundary_loss_x0 = model(boundary_x0, t_idx)                                    # f(x0, t)\n",
    "    boundary_x1 = torch.ones_like(t_idx, requires_grad=True).to(device) * x[-1]    \n",
    "    boundary_loss_x1 = model(boundary_x1, t_idx)                                    # f(x1, t)\n",
    "    \n",
    "    # initial conditions\n",
    "    f_initial = initial_condition(x_idx)                         # 0.5*sin(2*pi*x)\n",
    "    t_initial = torch.zeros_like(x_idx)                          # t0\n",
    "    t_initial.requires_grad = True\n",
    "    initial_loss_f = model(x_idx, t_initial) - f_initial         # L_initF\n",
    "    initial_loss_df = dfdt(model, x_idx, t_initial, order=1)     # L_initDF\n",
    "    \n",
    "    # obtain the final  loss by averaging each term and summing them up\n",
    "    final_loss = \\\n",
    "        pde_loss.pow(2).mean() + \\\n",
    "        boundary_loss_x0.pow(2).mean() + \\\n",
    "        boundary_loss_x1.pow(2).mean() + \\\n",
    "        initial_loss_f.pow(2).mean() + \\\n",
    "        initial_loss_df.pow(2).mean()\n",
    "\n",
    "    return final_loss"
   ]
  },
  {
   "cell_type": "code",
   "execution_count": 17,
   "metadata": {
    "slideshow": {
     "slide_type": "subslide"
    }
   },
   "outputs": [],
   "source": [
    "device = \"cuda\" if torch.cuda.is_available() else \"cpu\"\n",
    "\n",
    "# generate the time-space meshgrid\n",
    "x_domain = [0.0, 1.0]; n_points_x = 100\n",
    "t_domain = [0.0, 1.0]; n_points_t = 150\n",
    "x_idx = torch.linspace(x_domain[0], x_domain[1], steps=n_points_x, requires_grad=True)\n",
    "t_idx = torch.linspace(t_domain[0], t_domain[1], steps=n_points_t, requires_grad=True)\n",
    "grids = torch.meshgrid(x_idx, t_idx, indexing=\"ij\")\n",
    "x_idx, t_idx = x_idx.reshape(-1, 1).to(device), t_idx.reshape(-1, 1).to(device)\n",
    "x, t = grids[0].flatten().reshape(-1, 1).to(device), grids[1].flatten().reshape(-1, 1).to(device)\n",
    "\n",
    "# initialize the neural network model\n",
    "model = simple_NN2().to(device)"
   ]
  },
  {
   "cell_type": "code",
   "execution_count": 18,
   "metadata": {
    "slideshow": {
     "slide_type": "subslide"
    }
   },
   "outputs": [
    {
     "name": "stdout",
     "output_type": "stream",
     "text": [
      "epoch: 0, loss: 0.463561\n",
      "epoch: 300, loss: 0.119259\n",
      "epoch: 600, loss: 0.033014\n",
      "epoch: 900, loss: 0.030473\n",
      "epoch: 1200, loss: 0.027385\n",
      "epoch: 1500, loss: 0.032004\n",
      "epoch: 1800, loss: 0.016710\n",
      "epoch: 2100, loss: 0.011424\n",
      "epoch: 2400, loss: 0.007505\n",
      "epoch: 2700, loss: 0.004524\n"
     ]
    }
   ],
   "source": [
    "# Train\n",
    "optimizer = torch.optim.Adam(model.parameters(), lr=1e-2)\n",
    "for ep in range(3000):\n",
    "\n",
    "    loss = compute_loss(model, x=x, t=t, x_idx=x_idx, t_idx=t_idx, device=device)\n",
    "\n",
    "    # Backpropagation\n",
    "    optimizer.zero_grad()\n",
    "    loss.backward()\n",
    "    optimizer.step()\n",
    "\n",
    "    if ep % 300 == 0:\n",
    "        print(f\"epoch: {ep}, loss: {loss.item():>7f}\")"
   ]
  },
  {
   "cell_type": "code",
   "execution_count": 19,
   "metadata": {
    "slideshow": {
     "slide_type": "subslide"
    }
   },
   "outputs": [
    {
     "data": {
      "image/png": "[encoded data removed]",
      "text/plain": [
       "<Figure size 640x480 with 1 Axes>"
      ]
     },
     "metadata": {},
     "output_type": "display_data"
    }
   ],
   "source": [
    "# Prediction\n",
    "y = model(x, t)\n",
    "y_np = y.reshape([100,-1]).to(\"cpu\").detach().numpy()\n",
    "\n",
    "# Plot\n",
    "X, Y = np.meshgrid(np.linspace(0, 1, 150), np.linspace(0, 1, 100))\n",
    "fig, ax = plt.subplots(subplot_kw={\"projection\": \"3d\"})\n",
    "ax.plot_surface(X, Y, y_np, linewidth=0, antialiased=False, cmap=cm.coolwarm,)\n",
    "ax.set_xlabel(\"t\"), ax.set_ylabel(\"x\"), ax.set_zlabel(\"f\")\n",
    "plt.show()"
   ]
  },
  {
   "cell_type": "markdown",
   "metadata": {
    "slideshow": {
     "slide_type": "slide"
    }
   },
   "source": [
    "## Conclusions\n",
    "\n",
    "**Growth rate**\n",
    "\n",
    "- We saw the difference between:\n",
    "    - Fitting a NN only on observations.\n",
    "    - Adding a regularization term from a 1st order PDE."
   ]
  },
  {
   "cell_type": "markdown",
   "metadata": {
    "slideshow": {
     "slide_type": "subslide"
    }
   },
   "source": [
    "**1d wave**\n",
    "\n",
    "- We saw how to include:\n",
    "    - A 2nd order PDE.\n",
    "    - Multiple constraints on the initial conditions."
   ]
  },
  {
   "cell_type": "markdown",
   "metadata": {
    "slideshow": {
     "slide_type": "subslide"
    }
   },
   "source": [
    "**Next steps**\n",
    "\n",
    "- With more complex equations, convergence is not achieved so easily.\n",
    "- Also, For time-dependent problems, many useful tricks have been devised over the past years such as:\n",
    "    - Decomposing the solution domain in different parts solved using different neural networks.\n",
    "    - Smart weighting of different loss contributions to avoid converging to trivial solutions."
   ]
  },
  {
   "cell_type": "markdown",
   "metadata": {
    "slideshow": {
     "slide_type": "slide"
    }
   },
   "source": [
    "## References\n",
    "\n",
    "[[1](https://www.sciencedirect.com/science/article/pii/S0021999118307125)] Raissi, Maziar, Paris Perdikaris, and George E. Karniadakis. \"Physics-informed neural networks: A deep learning framework for solving forward and inverse problems involving nonlinear partial differential equations.\" Journal of Computational physics 378 (2019): 686-707.\n",
    "\n",
    "[[2](https://maziarraissi.github.io/PINNs/)] Raissi, Maziar, Paris Perdikaris, and George E. Karniadakis. \"Physics Informed Deep Learning\".\n",
    "\n",
    "[[3](https://www.sciencedirect.com/science/article/pii/S095219762030292X)] Nascimento, R. G., Fricke, K., & Viana, F. A. (2020). A tutorial on solving ordinary differential equations using Python and hybrid physics-informed neural network. Engineering Applications of Artificial Intelligence, 96, 103996.\n",
    "\n",
    "[[4](https://towardsdatascience.com/solving-differential-equations-with-neural-networks-afdcf7b8bcc4)] Dagrada, Dario. \"Introduction to Physics-informed Neural Networks\" ([code](https://github.com/madagra/basic-pinn)).\n",
    "\n",
    "[[5](https://towardsdatascience.com/physics-and-artificial-intelligence-introduction-to-physics-informed-neural-networks-24548438f2d5)] Paialunga Piero. \"Physics and Artificial Intelligence: Introduction to Physics Informed Neural Networks\".\n",
    "\n",
    "[[6](https://github.com/omniscientoctopus/Physics-Informed-Neural-Networks)] \"Physics-Informed-Neural-Networks (PINNs)\" - implementation of PINNs in TensorFlow 2 and PyTorch for the Burgers' and Helmholtz PDE."
   ]
  }
 ],
 "metadata": {
  "celltoolbar": "Slideshow",
  "kernelspec": {
   "display_name": "Python [conda env:pytorch_env]",
   "language": "python",
   "name": "conda-env-pytorch_env-py"
  },
  "language_info": {
   "codemirror_mode": {
    "name": "ipython",
    "version": 3
   },
   "file_extension": ".py",
   "mimetype": "text/x-python",
   "name": "python",
   "nbconvert_exporter": "python",
   "pygments_lexer": "ipython3",
   "version": "3.11.6"
  },
  "toc": {
   "base_numbering": 1,
   "nav_menu": {},
   "number_sections": false,
   "sideBar": true,
   "skip_h1_title": false,
   "title_cell": "Table of Contents",
   "title_sidebar": "Contents",
   "toc_cell": false,
   "toc_position": {},
   "toc_section_display": true,
   "toc_window_display": false
  },
  "varInspector": {
   "cols": {
    "lenName": 16,
    "lenType": 16,
    "lenVar": 40
   },
   "kernels_config": {
    "python": {
     "delete_cmd_postfix": "",
     "delete_cmd_prefix": "del ",
     "library": "var_list.py",
     "varRefreshCmd": "print(var_dic_list())"
    },
    "r": {
     "delete_cmd_postfix": ") ",
     "delete_cmd_prefix": "rm(",
     "library": "var_list.r",
     "varRefreshCmd": "cat(var_dic_list()) "
    }
   },
   "types_to_exclude": [
    "module",
    "function",
    "builtin_function_or_method",
    "instance",
    "_Feature"
   ],
   "window_display": false
  }
 },
 "nbformat": 4,
 "nbformat_minor": 5
}
